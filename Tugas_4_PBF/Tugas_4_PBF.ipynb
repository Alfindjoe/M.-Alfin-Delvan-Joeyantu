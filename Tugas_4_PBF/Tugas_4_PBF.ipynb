{
  "nbformat": 4,
  "nbformat_minor": 0,
  "metadata": {
    "colab": {
      "name": "Tugas_4_PBF.ipynb",
      "provenance": []
    },
    "kernelspec": {
      "name": "python3",
      "display_name": "Python 3"
    },
    "language_info": {
      "name": "python"
    }
  },
  "cells": [
    {
      "cell_type": "markdown",
      "source": [
        "Simple Football Game\n",
        "\n",
        "\"Merancang Simulasi Permainan Bola Sederhana\""
      ],
      "metadata": {
        "id": "_-4RPGPjHPK4"
      }
    },
    {
      "cell_type": "code",
      "execution_count": null,
      "metadata": {
        "id": "C0fS1INyHG58"
      },
      "outputs": [],
      "source": [
        "import math\n",
        "import random\n",
        "lambOne = 1.148698355\n",
        "lambTwo = 0.8705505633\n",
        "\n",
        "# Perhitungan skor goal home team dan away team\n",
        "\n",
        "def homeMatch(homeRating,awayRating):\n",
        "    global lambOne\n",
        "    global x\n",
        "    global y\n",
        "    if x == y:\n",
        "        raise ValueError\n",
        "    else:\n",
        "        lamb = lambOne**(int(homeRating)-int(awayRating))\n",
        "        homeScore = 0\n",
        "        z = random.random()    \n",
        "        while z > 0:\n",
        "            z = z - ((lamb**homeScore * math.exp(lamb * -1))/(math.factorial(homeScore)))\n",
        "            homeScore += 1\n",
        "        return (homeScore-1)\n",
        "\n",
        "def awayMatch(homeRating,awayRating):\n",
        "    global lambTwo\n",
        "    global x\n",
        "    global y\n",
        "    #This check is to stop a team playing itself\n",
        "    if x == y:\n",
        "        raise ValueError\n",
        "    else:\n",
        "        lamb = lambTwo**(int(homeRating)-int(awayRating))\n",
        "        awayScore = 0\n",
        "        z = random.random()    \n",
        "        while z > 0:\n",
        "            z = z - ((lamb**awayScore * math.exp(lamb * -1))/(math.factorial(awayScore)))\n",
        "            awayScore += 1\n",
        "        return (awayScore-1)"
      ]
    },
    {
      "cell_type": "code",
      "source": [
        "leagueSize = int(input(\"Enter Number of Teams in league: \"))\n",
        "\n",
        "teamNames = []\n",
        "teamSkill = []\n",
        "teamPoints = []\n",
        "teamFor = []\n",
        "teamAgainst = []\n",
        "teamWins = []\n",
        "teamDraws = []\n",
        "teamLosses = []\n",
        "\n",
        "for x in range(leagueSize):\n",
        "    teamPoints += [0]\n",
        "    teamFor += [0]\n",
        "    teamAgainst += [0]\n",
        "    teamWins += [0]\n",
        "    teamDraws += [0]\n",
        "    teamLosses += [0]\n",
        "\n",
        "for i in range(leagueSize):\n",
        "    teamNames += [input(\"Enter team \"+str(i+1)+\" name: \")]\n",
        "for j in range(leagueSize):\n",
        "    teamSkill += [input(\"Enter \"+teamNames[j]+\" skill: \")]"
      ],
      "metadata": {
        "colab": {
          "base_uri": "https://localhost:8080/"
        },
        "id": "tjI84wC1HYZP",
        "outputId": "fc8056af-2c93-48d8-e106-21f9f31ca7c3"
      },
      "execution_count": null,
      "outputs": [
        {
          "name": "stdout",
          "output_type": "stream",
          "text": [
            "Enter Number of Teams in league: 2\n",
            "Enter team 1 name: alfin\n",
            "Enter team 2 name: joeyantu\n",
            "Enter alfin skill: 4\n",
            "Enter joeyantu skill: 7\n"
          ]
        }
      ]
    },
    {
      "cell_type": "code",
      "source": [
        "homeScore = 0\n",
        "awayScore = 0\n",
        "\n",
        "for x in range(leagueSize):\n",
        "   print('\\n')\n",
        "   print(teamNames[x]+\"'s home games: \")\n",
        "   print(\"===========================================\\n\")\n",
        "   for y in range(leagueSize):\n",
        "        error = 0\n",
        "        try:\n",
        "            homeScore = homeMatch(teamSkill[x],teamSkill[y])\n",
        "        except ValueError:\n",
        "            pass\n",
        "            error += 1\n",
        "        try:\n",
        "            awayScore = awayMatch(teamSkill[x],teamSkill[y])\n",
        "        except ValueError:\n",
        "            pass\n",
        "        if error == 0:\n",
        "            print(teamNames[x],homeScore,\"-\",awayScore,teamNames[y],\"\\n\")\n",
        "            teamFor[x] += homeScore\n",
        "            teamFor[y] += awayScore\n",
        "            teamAgainst[x] += awayScore\n",
        "            teamAgainst[y] += homeScore\n",
        "            if homeScore > awayScore:\n",
        "                teamWins[x] += 1\n",
        "                teamLosses[y] += 1\n",
        "                teamPoints[x] += 3\n",
        "            elif homeScore == awayScore:\n",
        "                teamDraws[x] += 1\n",
        "                teamDraws[y] += 1\n",
        "                teamPoints[x] += 1\n",
        "                teamPoints[y] += 1\n",
        "            else:\n",
        "                teamWins[y] += 1\n",
        "                teamLosses[x] += 1\n",
        "                teamPoints[y] += 3\n",
        "        else:\n",
        "            pass\n",
        "\n",
        "print(\"Final table: \")\n",
        "for x in range(leagueSize):\n",
        "    print(teamNames[x]+(15-len(teamNames[x]))*\" \"+\" Skill: \"+str(teamSkill[x])+(5-len(str(teamSkill[x])))*\" \"+\" Points: \"+str(teamPoints[x])+(5-len(str(teamPoints[x])))*\" \"+\" For: \"+str(teamFor[x])+(5-len(str(teamFor[x])))*\" \"+\" Against: \"+str(teamAgainst[x])+(5-len(str(teamPoints[x])))*\" \"+\" Goal difference: \"+str(teamFor[x]-teamAgainst[x])+(5-len(str(teamFor[x]-teamAgainst[x])))*\" \"+\" Wins: \"+str(teamWins[x])+(5-len(str(teamWins[x])))*\" \"+\" Draws: \"+str(teamDraws[x])+(5-len(str(teamDraws[x])))*\" \"+\" Losses: \"+str(teamLosses[x])+(5-len(str(teamLosses[x])))*\" \")\n",
        "teamPoints.sort()\n",
        "print(teamPoints)"
      ],
      "metadata": {
        "colab": {
          "base_uri": "https://localhost:8080/"
        },
        "id": "ygQSADXlHd6l",
        "outputId": "f2762c48-5367-4f1b-92a9-7c3d8cc3cc7b"
      },
      "execution_count": null,
      "outputs": [
        {
          "output_type": "stream",
          "name": "stdout",
          "text": [
            "\n",
            "\n",
            "alfin's home games: \n",
            "===========================================\n",
            "\n",
            "alfin 0 - 2 joeyantu \n",
            "\n",
            "\n",
            "\n",
            "joeyantu's home games: \n",
            "===========================================\n",
            "\n",
            "joeyantu 4 - 0 alfin \n",
            "\n",
            "Final table: \n",
            "alfin           Skill: 4     Points: 0     For: 0     Against: 6     Goal difference: -6    Wins: 0     Draws: 0     Losses: 2    \n",
            "joeyantu        Skill: 7     Points: 6     For: 6     Against: 0     Goal difference: 6     Wins: 2     Draws: 0     Losses: 0    \n",
            "[0, 6]\n"
          ]
        }
      ]
    }
  ]
}