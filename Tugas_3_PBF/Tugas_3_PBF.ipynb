{
  "nbformat": 4,
  "nbformat_minor": 0,
  "metadata": {
    "colab": {
      "name": "Tugas_3_PBF.ipynb",
      "provenance": [],
      "toc_visible": true
    },
    "kernelspec": {
      "name": "python3",
      "display_name": "Python 3"
    },
    "language_info": {
      "name": "python"
    }
  },
  "cells": [
    {
      "cell_type": "markdown",
      "source": [
        "Code tersebut adalah metode euler yang dapat\n",
        "digunakan untuk menyelesaikan persamaan differensial\n",
        "non linear pendulum. Misal metode tersebut disimpan di\n",
        "modul bernama solver.py\n",
        "Soal:\n",
        "1. Apakah modul solver.py dapat digunakan untuk\n",
        "menyelesaikan persamaan differensial orde 2\n",
        "selain kasus non linear pendulum? Jelaskan\n",
        "mengapa! Yaa dapat, karena modul solver.py dapat menyelesaikan persamaan linier maupun non linier.\n",
        "\n",
        "2. Implementasikan solver tersebut dengan cara membuat file solver.py\n",
        "\n",
        "3. Untuk menyelesaikan persamaan dengan solver.py, bentuk fungsi harus diubah menjadi:\n",
        "d^2a/dt^2 = (-g/L) * (sin(a))\n",
        "Definisikan fungsi Func sebagai fungsi yang me return nilai -g/L * sin(a)\n",
        "(didalam ppt tugas 3)\n",
        "\n",
        "4. Menggunakan Parameter Parameter yang ada dalam tabel diatas, buatlah program yang menggunakan solver.py \n",
        "untuk menemukan solusi persamaan diferensial non linear tersebut! Hint( Solusi Akhir berupa plot )\n",
        "d^2y/dx^2 = -y - dy/dx +sin^2 (x)\n",
        "\n",
        "5. Perhatikan Persamaan Diferensial Diatas! Buatlah program untuk menyelesaikan PD tersebut dengan\n",
        "menggunakan solver.py sebagai modul dengan parameter berikut! (didalam ppt tugas 3)"
      ],
      "metadata": {
        "id": "HnFwBXeFGQk-"
      }
    },
    {
      "cell_type": "code",
      "source": [
        "pip install solver\n"
      ],
      "metadata": {
        "colab": {
          "base_uri": "https://localhost:8080/",
          "height": 0
        },
        "id": "ImuG-aMTGBhj",
        "outputId": "ace75e65-93ed-40a7-87e8-2787f0200a04"
      },
      "execution_count": 11,
      "outputs": [
        {
          "output_type": "stream",
          "name": "stdout",
          "text": [
            "Collecting solver\n",
            "  Downloading solver-0.0.4.tar.gz (2.8 kB)\n",
            "Building wheels for collected packages: solver\n",
            "  Building wheel for solver (setup.py) ... \u001b[?25l\u001b[?25hdone\n",
            "  Created wheel for solver: filename=solver-0.0.4-py3-none-any.whl size=3129 sha256=c7ff4cfae57b6dd8995467373579b56fd93ceae951ca3834e91487d7e2b1ebb4\n",
            "  Stored in directory: /root/.cache/pip/wheels/66/27/02/f951263ae7f5f0d6b627987a9ca9baefdb4da1f5c6f18fb4f5\n",
            "Successfully built solver\n",
            "Installing collected packages: solver\n",
            "Successfully installed solver-0.0.4\n"
          ]
        }
      ]
    },
    {
      "cell_type": "code",
      "source": [
        "#euler.py\n",
        "def euler(t,h,y,dy,Func):\n",
        "  d2y = Func(t,y,dy)\n",
        "  y_next = y + (h * dy)\n",
        "  dy_next = dy + (h * d2y)\n",
        "  return (y_next, dy_next)\n",
        "\n",
        "def euler(t,h,y,dy,Func):\n",
        "  d2y = Func(t,y,dy)\n",
        "  y_next = y + (h * dy)\n",
        "  dy_next = dy + (h * d2y)\n",
        "  return (y_next, dy_next)\n",
        "\n",
        "\n",
        "def cauchy_euler(params, Func):\n",
        "  # initial condition\n",
        "  t0 = params['t0']\n",
        "  t_akhir = params['t_akhir']\n",
        "  h = params['h']\n",
        "  y0 = params['y0']\n",
        "  dy0 = params['dy0']\n",
        "\n",
        "  res_euler = []\n",
        "  t = []\n",
        "  step = int((t_akhir - t0) / h)\n",
        "\n",
        "  for i in range(step):\n",
        "    tm = (i + 1) * h\n",
        "    (y_next, dy_next) = euler(tm, h, y0, dy0, Func)\n",
        "    res_euler.append(y_next)\n",
        "    t.append(tm)\n",
        "    y0 = y_next\n",
        "    dy0 = dy_next\n",
        "\n",
        "  return(t, res_euler)"
      ],
      "metadata": {
        "id": "PFBFcWDxGi0R"
      },
      "execution_count": 12,
      "outputs": []
    },
    {
      "cell_type": "code",
      "source": [
        "#solusi akhir berupa plot (4)\n",
        "from solver import *\n",
        "import matplotlib.pyplot as plt\n",
        "import math\n",
        "\n",
        "def pendulumfunc(g, l, a):\n",
        "  return -(g/l) * math.sin(a)\n",
        "\n",
        "parameter = {\n",
        "  'g' : 9.8,\n",
        "  'y0' : 1,\n",
        "  't0' : 0,\n",
        "  't_akhir' : 4,\n",
        "  'h' : 0.001,\n",
        "  'dy0' : 0.5 * 3.14\n",
        "}\n",
        "\n",
        "\n",
        "t, res = cauchy_euler(parameter, pendulumfunc)\n",
        "\n",
        "plt.plot(t,res)\n",
        "plt.show()"
      ],
      "metadata": {
        "colab": {
          "base_uri": "https://localhost:8080/",
          "height": 265
        },
        "id": "2U9buNijGnCu",
        "outputId": "fccf0348-bbaa-4116-e820-1c62e5576ebe"
      },
      "execution_count": 13,
      "outputs": [
        {
          "output_type": "display_data",
          "data": {
            "text/plain": [
              "<Figure size 432x288 with 1 Axes>"
            ],
            "image/png": "[encoded data removed]"
          },
          "metadata": {
            "needs_background": "light"
          }
        }
      ]
    },
    {
      "cell_type": "code",
      "source": [
        "#program untuk menyelesaikan PD (5)\n",
        "import matplotlib.pyplot as plt\n",
        "from solver import *\n",
        "import math\n",
        "\n",
        "def pd2(y, dy, x):\n",
        "    return -y - dy - (math.sin(x) ** 2)\n",
        "\n",
        "parameter1 ={\n",
        "    't0' : 0,\n",
        "    't_akhir' : 50,\n",
        "    'h' : 0.05,\n",
        "    'y0' : 1,\n",
        "    'dy0' : -9/2\n",
        "}\n",
        "\n",
        "x, y = cauchy_euler(parameter1, pd2)\n",
        "\n",
        "plt.plot(x,y)\n",
        "plt.show()"
      ],
      "metadata": {
        "colab": {
          "base_uri": "https://localhost:8080/",
          "height": 265
        },
        "id": "fTPMm-40Gqhx",
        "outputId": "1fef6b81-f48f-42d5-a4bc-f45ce5604c6d"
      },
      "execution_count": 14,
      "outputs": [
        {
          "output_type": "display_data",
          "data": {
            "text/plain": [
              "<Figure size 432x288 with 1 Axes>"
            ],
            "image/png": "[encoded data removed]"
          },
          "metadata": {
            "needs_background": "light"
          }
        }
      ]
    }
  ]
}