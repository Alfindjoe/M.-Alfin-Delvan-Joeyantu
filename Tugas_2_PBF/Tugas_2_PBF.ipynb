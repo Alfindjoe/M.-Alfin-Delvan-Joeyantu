{
  "nbformat": 4,
  "nbformat_minor": 0,
  "metadata": {
    "colab": {
      "name": "Untitled1.ipynb",
      "provenance": []
    },
    "kernelspec": {
      "name": "python3",
      "display_name": "Python 3"
    },
    "language_info": {
      "name": "python"
    }
  },
  "cells": [
    {
      "cell_type": "code",
      "execution_count": 1,
      "metadata": {
        "colab": {
          "base_uri": "https://localhost:8080/",
          "height": 0
        },
        "id": "7dP64LfH9ryu",
        "outputId": "b37d91a3-855e-4c5a-d65c-8c9d191a7143"
      },
      "outputs": [
        {
          "output_type": "stream",
          "name": "stdout",
          "text": [
            "9502561694858652150281747994108545943651521215096841995237040384498740803993469376602031341619585763\n",
            "2116068642696162934965789080530992805391900568978958496201555855833896833372295507803936243187061092\n"
          ]
        }
      ],
      "source": [
        "# Author : M. Alfin Delvan Joeyantu\n",
        "# NIM : 120450024\n",
        "# Kelas : RB\n",
        "# Affiliation : Sains Data ITERA\n",
        "\n",
        "filename1 = '/content/bilangan 1.txt'\n",
        "filename2 = '/content/bilangan 2.txt'\n",
        "bilangan1 = open(filename1, 'r').read()\n",
        "bilangan2 = open(filename2, 'r').read()\n",
        "\n",
        "print(bilangan1)\n",
        "print(bilangan2)"
      ]
    },
    {
      "cell_type": "code",
      "source": [
        "print((lambda x,y: int(x) + int(y))(bilangan1,bilangan2))"
      ],
      "metadata": {
        "colab": {
          "base_uri": "https://localhost:8080/",
          "height": 0
        },
        "id": "9MbL-ruXAVim",
        "outputId": "12c3e63c-e8b4-46a4-aba9-91e44f4804a0"
      },
      "execution_count": 2,
      "outputs": [
        {
          "output_type": "stream",
          "name": "stdout",
          "text": [
            "11618630337554815085247537074639538749043421784075800491438596240332637637365764884405967584806646855\n"
          ]
        }
      ]
    }
  ]
}